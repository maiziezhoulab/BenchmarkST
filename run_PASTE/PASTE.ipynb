{
 "cells": [
  {
   "cell_type": "markdown",
   "metadata": {},
   "source": [
    "# PASTE alignment tutorial"
   ]
  },
  {
   "cell_type": "code",
   "execution_count": 2,
   "metadata": {},
   "outputs": [],
   "source": [
    "import matplotlib.pyplot as plt\n",
    "import matplotlib.patches as mpatches\n",
    "import numpy as np\n",
    "import scanpy as sc\n",
    "import paste as pst\n",
    "import os.path as osp\n",
    "import glob\n",
    "from utils.function_utils import *\n",
    "\n",
    "import ot\n",
    "ot.backend.get_backend_list()\n",
    "\n",
    "import torch\n",
    "torch.cuda.is_available()\n",
    "\n",
    "iters = 1\n",
    "save_dir_gt = './paste_result'"
   ]
  },
  {
   "cell_type": "markdown",
   "metadata": {},
   "source": [
    "### Mouse Hypothalamus data integration (pair-wise)"
   ]
  },
  {
   "cell_type": "code",
   "execution_count": null,
   "metadata": {},
   "outputs": [],
   "source": [
    "\"\"\"mhypo\"\"\"\n",
    "section_ids_list = [['-0.04', '-0.09'], ['-0.09', '-0.14'], ['-0.14', '-0.19'], ['-0.19', '-0.24']]\n",
    "run_times = []\n",
    "for section_ids in section_ids_list:\n",
    "    dataset = section_ids[0] + '_' + section_ids[1]\n",
    "    output = '.'\n",
    "    slice1 = load_mHypothalamus(section_id=section_ids[0])\n",
    "    slice2 = load_mHypothalamus(section_id=section_ids[1])\n",
    "\n",
    "    # run paste pairwise alignment\n",
    "    pi0 = pst.match_spots_using_spatial_heuristic(slice1.obsm['spatial'],slice2.obsm['spatial'],use_ot=True)\n",
    "    pi12 = pst.pairwise_align(slice1, slice2, G_init=pi0, norm=True, backend = ot.backend.TorchBackend(), use_gpu=True)\n",
    "\n",
    "    # save alignment matrix\n",
    "    if not os.path.exists(os.path.join(save_dir_gt, dataset)):\n",
    "        os.makedirs(os.path.join(save_dir_gt, dataset))\n",
    "    np.save(osp.join(save_dir_gt, dataset, 'iter'+str(0)+'embedding.npy'), pi12)"
   ]
  },
  {
   "cell_type": "markdown",
   "metadata": {},
   "source": [
    "### DLPFC data integration (pair-wise)"
   ]
  },
  {
   "cell_type": "code",
   "execution_count": null,
   "metadata": {},
   "outputs": [],
   "source": [
    "section_ids_list = [['151507', '151508'], ['151508', '151509'], ['151509', '151510']]\n",
    "run_times = []\n",
    "    \n",
    "for section_ids in section_ids_list:\n",
    "    dataset = section_ids[0] + '_' + section_ids[1]\n",
    "    slice1 = load_DLPFC(section_id=section_ids[0])\n",
    "    slice2 = load_DLPFC(section_id=section_ids[1])\n",
    "\n",
    "\n",
    "    # run paste pairwise alignment\n",
    "    pi0 = pst.match_spots_using_spatial_heuristic(slice1.obsm['spatial'],slice2.obsm['spatial'],use_ot=True)\n",
    "    pi12 = pst.pairwise_align(slice1, slice2, G_init=pi0, norm=True, backend = ot.backend.TorchBackend(), use_gpu=True)\n",
    "\n",
    "    # save alignment matrix\n",
    "    if not os.path.exists(os.path.join(save_dir_gt, dataset)):\n",
    "        os.makedirs(os.path.join(save_dir_gt, dataset))\n",
    "    np.save(osp.join(save_dir_gt, dataset, 'iter'+str(0)+'embedding.npy'), pi12)"
   ]
  }
 ],
 "metadata": {
  "kernelspec": {
   "display_name": "paste",
   "language": "python",
   "name": "python3"
  },
  "language_info": {
   "codemirror_mode": {
    "name": "ipython",
    "version": 3
   },
   "file_extension": ".py",
   "mimetype": "text/x-python",
   "name": "python",
   "nbconvert_exporter": "python",
   "pygments_lexer": "ipython3",
   "version": "3.9.16"
  }
 },
 "nbformat": 4,
 "nbformat_minor": 2
}
