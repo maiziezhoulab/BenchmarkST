{
 "cells": [
  {
   "cell_type": "code",
   "execution_count": null,
   "metadata": {},
   "outputs": [],
   "source": []
  },
  {
   "cell_type": "markdown",
   "metadata": {},
   "source": []
  },
  {
   "cell_type": "code",
   "execution_count": null,
   "metadata": {},
   "outputs": [],
   "source": [
    "import numpy as np\n",
    "import sklearn\n",
    "import sklearn.metrics.pairwise\n",
    "import pandas as pd\n",
    "import matplotlib.pyplot as plt\n",
    "import scanpy as sc\n",
    "import os"
   ]
  },
  {
   "cell_type": "code",
   "execution_count": null,
   "metadata": {},
   "outputs": [],
   "source": [
    "def plot_aligned_misaligned(alignment, labels, adata1, adata2, data='DLPFC', sec='151507_151508', tool='STAligner', save_dir=\"./\"):\n",
    "\n",
    "    if data == 'DLPFC':\n",
    "        spot_s = 75\n",
    "\n",
    "    matched_idx_list = []\n",
    "    ad1_match_label = []\n",
    "    ad2_match_label = [2] * alignment.shape[1]\n",
    "\n",
    "\n",
    "    for i, elem in enumerate(alignment):\n",
    "        matched_idx_list.append(elem.argmax())\n",
    "        if labels[i] == labels[elem.argmax() + alignment.shape[0]]:\n",
    "            ad1_match_label.append(1)\n",
    "            ad2_match_label[elem.argmax()] = 1\n",
    "        else:\n",
    "            ad1_match_label.append(0)\n",
    "            ad2_match_label[elem.argmax()] = 0\n",
    "\n",
    "    adata1.obs['matching_spots'] = ad1_match_label\n",
    "    adata2.obs['matching_spots'] = ad2_match_label\n",
    "\n",
    "    adata1.obs['matching_spots'] = adata1.obs['matching_spots'].astype('category')\n",
    "    adata1.obs['matching_spots'] = adata1.obs['matching_spots'].map({1: 'aligned', 0: 'mis-aligned'})\n",
    "\n",
    "    adata2.obs['matching_spots'] = adata2.obs['matching_spots'].astype('category')\n",
    "    adata2.obs['matching_spots'] = adata2.obs['matching_spots'].map({1: 'aligned', 0: 'mis-aligned', 2: 'unaligned'})\n",
    "\n",
    "    fig, ax = plt.subplots(2,1, figsize=(6,18), gridspec_kw={'height_ratios': [1, 1], 'hspace': 0.2})\n",
    "    sc.pl.spatial(adata1, title=tool, color=\"matching_spots\", spot_size=spot_s, ax=ax[0], show=False)\n",
    "    sc.pl.spatial(adata2, title=tool, color=\"matching_spots\", spot_size=spot_s, ax=ax[1], show=False)\n",
    "    \n",
    "    # Ensure the aspect ratio of the second subplot matches the first\n",
    "    for axis in ax:\n",
    "        axis.legend().remove()\n",
    "    \n",
    "    plt.tight_layout(pad=3.0)\n",
    "    fig.text(0.5, 0.03, \"Ratio=\" + str(\"{:.2f}\".format(alignment.shape[0]/len(set(matched_idx_list)))), \n",
    "             fontsize=52, \n",
    "             verticalalignment='bottom', \n",
    "             horizontalalignment='center')\n",
    "    \n",
    "    plt.savefig(os.path.join(save_dir, \"SAM\" + tool + sec + \"viz.pdf\"), bbox_inches=\"tight\")\n",
    "    plt.show()"
   ]
  },
  {
   "cell_type": "code",
   "execution_count": null,
   "metadata": {},
   "outputs": [],
   "source": [
    "def get_ratio(alignment, labels):\n",
    "    matched_idx_list = []\n",
    "    ad1_match_label = []\n",
    "    ad2_match_label = [2] * alignment.shape[1]\n",
    "\n",
    "\n",
    "    for i, elem in enumerate(alignment):\n",
    "        # print(i, elem)\n",
    "        # print(elem.argmax(), alignment.shape[0])\n",
    "        matched_idx_list.append(elem.argmax())\n",
    "        if labels[i] == labels[elem.argmax() + alignment.shape[0]]:\n",
    "            ad1_match_label.append(1)\n",
    "            ad2_match_label[elem.argmax()] = 1\n",
    "        else:\n",
    "            ad1_match_label.append(0)\n",
    "            ad2_match_label[elem.argmax()] = 0\n",
    "    \n",
    "    return alignment.shape[0]/len(set(matched_idx_list))"
   ]
  },
  {
   "cell_type": "code",
   "execution_count": null,
   "metadata": {},
   "outputs": [],
   "source": [
    "import anndata\n",
    "\n",
    "\"\"\"DLPFC\"\"\"\n",
    "def load_DLPFC(root_dir='./DLPFC12', section_id='151507'):\n",
    "    # 151507, ..., 151676 12 in total\n",
    "    ad = sc.read_visium(path=os.path.join(root_dir, section_id), count_file=section_id+'_filtered_feature_bc_matrix.h5')\n",
    "    ad.var_names_make_unique()\n",
    "\n",
    "    gt_dir = os.path.join(root_dir, section_id, 'gt')\n",
    "    gt_df = pd.read_csv(os.path.join(gt_dir, 'tissue_positions_list_GTs.txt'), sep=',', header=None, index_col=0)\n",
    "    ad.obs['original_clusters'] = gt_df.loc[:, 6]\n",
    "    keep_bcs = ad.obs.dropna().index\n",
    "    ad = ad[keep_bcs].copy()\n",
    "    ad.obs['original_clusters'] = ad.obs['original_clusters'].astype(int).astype(str)\n",
    "    # print(ad.obs)\n",
    "    return ad\n",
    "\n",
    "def load_paste(path_='../samples/paste', sec='151507_151508', data='DLPFC'):\n",
    "    alignment=np.load(os.path.join(path_, sec, \"iter0embedding.npy\"))\n",
    "    labels=np.load(os.path.join(path_, sec, \"iter0labels.npy\"), allow_pickle=True)\n",
    "\n",
    "    if data == 'DLPFC':\n",
    "        ad1 = load_DLPFC(section_id=sec.split('_')[0])\n",
    "        ad2 = load_DLPFC(section_id=sec.split('_')[1])\n",
    "\n",
    "    \n",
    "    return labels, alignment, ad1, ad2"
   ]
  },
  {
   "cell_type": "code",
   "execution_count": null,
   "metadata": {},
   "outputs": [],
   "source": [
    "sec_list = ['151507_151508'] \n",
    "for sec in sec_list:\n",
    "    # paste\n",
    "    labels, alignment3, ad1, ad2 = load_paste(path_='../samples/paste', sec=sec, data='DLPFC')\n",
    "    plot_aligned_misaligned(alignment3, labels, ad1, ad2, sec=sec, tool='PASTE', data='DLPFC', save_dir=\"./\")\n",
    "    print(get_ratio(alignment3, labels))"
   ]
  }
 ],
 "metadata": {
  "language_info": {
   "name": "python"
  }
 },
 "nbformat": 4,
 "nbformat_minor": 2
}
