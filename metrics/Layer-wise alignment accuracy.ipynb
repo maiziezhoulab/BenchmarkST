{
 "cells": [
  {
   "cell_type": "markdown",
   "metadata": {},
   "source": [
    "# Using PASTE and DLPFC as an example here"
   ]
  },
  {
   "cell_type": "code",
   "execution_count": null,
   "metadata": {},
   "outputs": [],
   "source": [
    "import numpy as np\n",
    "import sklearn\n",
    "import sklearn.metrics.pairwise\n",
    "import pandas as pd\n",
    "\n",
    "\n",
    "def cal_layer_based_alignment_result(alignment, labels):\n",
    "    res = []\n",
    "    l_dict = {\"0\": 0, \"1\": 1, \"2\": 2, \"3\": 3, \"4\": 4, \"5\": 5, \"6\": 6}\n",
    "    cnt0 = 0\n",
    "    cnt1 = 0\n",
    "    cnt2 = 0\n",
    "    cnt3 = 0\n",
    "    cnt4 = 0\n",
    "    cnt5 = 0\n",
    "    cnt6 = 0\n",
    "    for i, elem in enumerate(alignment):\n",
    "        if labels[i] == '-1' or labels[elem.argmax() + alignment.shape[0]] == '-1':\n",
    "            continue \n",
    "        if l_dict[labels[i]] == l_dict[labels[elem.argmax() + alignment.shape[0]]]:\n",
    "            cnt0 += 1\n",
    "        if abs(l_dict[labels[i]] - l_dict[labels[elem.argmax() + alignment.shape[0]]]) == 1:\n",
    "            cnt1 += 1\n",
    "        if abs(l_dict[labels[i]] - l_dict[labels[elem.argmax() + alignment.shape[0]]]) == 2:\n",
    "            cnt2 += 1\n",
    "        if abs(l_dict[labels[i]] - l_dict[labels[elem.argmax() + alignment.shape[0]]]) == 3:\n",
    "            cnt3 += 1\n",
    "        if abs(l_dict[labels[i]] - l_dict[labels[elem.argmax() + alignment.shape[0]]]) == 4:\n",
    "            cnt4 += 1\n",
    "        if abs(l_dict[labels[i]] - l_dict[labels[elem.argmax() + alignment.shape[0]]]) == 5:\n",
    "            cnt5 += 1\n",
    "        if abs(l_dict[labels[i]] - l_dict[labels[elem.argmax() + alignment.shape[0]]]) == 6:\n",
    "            cnt6 += 1\n",
    "    print(alignment.shape[0])\n",
    "    print(cnt0/alignment.shape[0], cnt1/alignment.shape[0], cnt2/alignment.shape[0], cnt3/alignment.shape[0], cnt4/alignment.shape[0], cnt5/alignment.shape[0], cnt6/alignment.shape[0])\n",
    "    res.extend([cnt0/alignment.shape[0], cnt1/alignment.shape[0], cnt2/alignment.shape[0], cnt3/alignment.shape[0], cnt4/alignment.shape[0], cnt5/alignment.shape[0], cnt6/alignment.shape[0]])\n",
    "    return res"
   ]
  },
  {
   "cell_type": "code",
   "execution_count": null,
   "metadata": {},
   "outputs": [],
   "source": [
    "import os\n",
    "\n",
    "def load_paste(path_='../samples/paste', sec='1515107_1515108'):\n",
    "    alignment=np.load(os.path.join(path_, sec, \"iter0embedding.npy\"))\n",
    "    labels=np.load(os.path.join(path_, sec, \"iter0labels.npy\"), allow_pickle=True)\n",
    "    \n",
    "    return labels, alignment"
   ]
  },
  {
   "cell_type": "code",
   "execution_count": null,
   "metadata": {},
   "outputs": [],
   "source": [
    "# STAligner\n",
    "# sec_lists = ['151507_151508', '151508_151509', '151509_151510', '151669_151670', '151670_151671', '151671_151672', '151673_151674', '151674_151675', '151675_151676']\n",
    "sec_lists = ['151507_151508', '151508_151509', '151509_151510', '151669_151670', '151670_151671', '151671_151672', '151673_151674', '151674_151675', '151675_151676']\n",
    "# sec_lists = ['151507_151508']\n",
    "for sec in sec_lists:\n",
    "\n",
    "    # paste2\n",
    "    labels, alignment = load_paste(path_='../samples/paste', sec=sec)\n",
    "    res1 = cal_layer_based_alignment_result(alignment, labels)"
   ]
  },
  {
   "cell_type": "code",
   "execution_count": null,
   "metadata": {},
   "outputs": [],
   "source": [
    "import matplotlib.pyplot as plt\n",
    "\n",
    "#### feel free to adjust this to plot the figures for better comparison\n",
    "cmap = ['#808000', '#000075', '#ffd8b1', '#9A6324', '#a9a9a9', '#4363d8', \"#808080\", \"#fffac8\", \"#469990\"]\n",
    "order = [\"STAligner\", \"PASTE2\", \"PASTE\", \"PRECAST\", \"SPACEL\", \"DeepST\", \"SPIRAL\", \"STalign\", \"GPSA\"]\n",
    "\n",
    "def plot(res0, res1, res2, res3, res4, res5, res6, res7, res8, sec, cmap):    \n",
    "    index = [0,1,2,3,4,5,6]\n",
    "    df = pd.DataFrame(data={'STAligner': res0, 'PASTE2': res1, 'PASTE': res2, 'PRECAST': res3, 'SPACEL': res4, 'DeepST':res5, 'SPIRAL':res6, 'STalign':res7, 'GPSA':res8}, index=index)\n",
    "    my_colors = cmap\n",
    "\n",
    "    # Reorder columns based on the accuracy of the first row\n",
    "    sorted_columns = df.iloc[0].sort_values(ascending=False).index\n",
    "\n",
    "    # Sort the colormap to match the sorted columns\n",
    "    sorted_columns_with_colors = sorted(zip(df.columns, cmap), key=lambda x: df.loc[index[0], x[0]], reverse=True)\n",
    "    sorted_columns, my_colors = zip(*sorted_columns_with_colors)\n",
    "\n",
    "    # Reorder the DataFrame columns\n",
    "    df = df[list(sorted_columns)]\n",
    "\n",
    "    \n",
    "    # df.plot.hist(column=[\"age\"], by=\"gender\", figsize=(10, 8))\n",
    "    ax = df.plot.bar(rot=0, color=my_colors, width=0.9, xlim=(0,6), figsize=(30, 8), legend=True)\n",
    "    # ax.set_xlim(-0.5, 2*len(df) - 0.5)\n",
    "    # ax.set_xticks(range(0, 2*len(df), 2), index)\n",
    "    ax.legend(fontsize=30)\n",
    "    plt.xlabel(\"Layer shift\")\n",
    "    plt.ylabel(\"Layer-wise alignment accuracy\", fontsize=35)\n",
    "    \n",
    "    yticks = np.arange(0, 1.0, 0.1)\n",
    "    plt.yticks(yticks, fontsize=45)\n",
    "\n",
    "    plt.title('DLPFC ' + sec.split('_')[0]+\"-\"+sec.split('_')[1])\n",
    "\n",
    "    plt.savefig(os.path.join('./', \"LAA\" + sec + \"barplot_ordered.pdf\"), bbox_inches=\"tight\")"
   ]
  }
 ],
 "metadata": {
  "language_info": {
   "name": "python"
  }
 },
 "nbformat": 4,
 "nbformat_minor": 2
}
