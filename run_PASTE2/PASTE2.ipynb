{
 "cells": [
  {
   "cell_type": "markdown",
   "metadata": {},
   "source": [
    "# PASTE2 alignment tutorial"
   ]
  },
  {
   "cell_type": "code",
   "execution_count": 1,
   "metadata": {},
   "outputs": [
    {
     "name": "stderr",
     "output_type": "stream",
     "text": [
      "/home/yunfei/anaconda3/envs/paste/lib/python3.9/site-packages/tqdm/auto.py:21: TqdmWarning: IProgress not found. Please update jupyter and ipywidgets. See https://ipywidgets.readthedocs.io/en/stable/user_install.html\n",
      "  from .autonotebook import tqdm as notebook_tqdm\n"
     ]
    }
   ],
   "source": [
    "from src.paste2 import partial_pairwise_align\n",
    "from src.paste2.model_selection import select_overlap_fraction\n",
    "import os\n",
    "import numpy as np\n",
    "import scanpy as sc\n",
    "\n",
    "from utils.function_utils import *\n",
    "import time\n",
    "import paste as pst\n",
    "\n",
    "iters = 1\n",
    "save_dir_gt = './paste2_results'"
   ]
  },
  {
   "cell_type": "markdown",
   "metadata": {},
   "source": [
    "### Mouse Hypothalamus data integration (pair-wise)"
   ]
  },
  {
   "cell_type": "code",
   "execution_count": null,
   "metadata": {},
   "outputs": [],
   "source": [
    "section_ids_list = [['-0.04', '-0.09'], ['-0.09', '-0.14'], ['-0.14', '-0.19'], ['-0.19', '-0.24']]\n",
    "run_times = []\n",
    "for iter_ in range(iters):\n",
    "    for section_ids in section_ids_list:\n",
    "        dataset = section_ids[0] + '_' + section_ids[1]\n",
    "        print(dataset)\n",
    "        start_time = time.time()\n",
    "        output = '.'\n",
    "        slice1 = load_mHypothalamus(section_id=section_ids[0])\n",
    "        slice2 = load_mHypothalamus(section_id=section_ids[1])\n",
    "        \n",
    "        l = slice1.copy()\n",
    "        siml = slice2.copy()\n",
    "\n",
    "        overlap_frac = select_overlap_fraction(l, siml, alpha=0.1, dis=\"kl\")\n",
    "        print(overlap_frac)\n",
    "        pi12 = partial_pairwise_align(l, siml, overlap_frac, alpha=0.1, armijo=False, dissimilarity='kl', use_rep=None, G_init=None, a_distribution=None, b_distribution=None, norm=True, return_obj=False, verbose=True)\n",
    "\n",
    "        # save alignment matrix\n",
    "        if not os.path.exists(os.path.join(save_dir_gt, dataset)):\n",
    "            os.makedirs(os.path.join(save_dir_gt, dataset))\n",
    "        np.save(os.path.join(save_dir_gt, dataset, 'iter'+str(iter_)+'embedding.npy'), pi12)\n",
    "        end_time = time.time()\n",
    "        run_times.append(end_time - start_time)\n",
    "\n",
    "        # np.save(osp.join(output, 'alignment151509151510.npy'), pi12)\n",
    "\n",
    "        # save labels\n",
    "        labels = []\n",
    "        labels.extend(list(slice1.obs['original_clusters']))\n",
    "        labels.extend(list(slice2.obs['original_clusters']))\n",
    "        np.save(os.path.join(save_dir_gt, dataset, 'iter'+str(iter_)+'labels.npy'), labels)\n"
   ]
  },
  {
   "cell_type": "markdown",
   "metadata": {},
   "source": [
    "### DLPFC data integration (pair-wise)"
   ]
  },
  {
   "cell_type": "code",
   "execution_count": null,
   "metadata": {},
   "outputs": [],
   "source": [
    "section_ids_list = [['151507', '151508'], ['151508', '151509'], ['151509', '151510']]\n",
    "run_times = []\n",
    "for iter_ in range(iters):\n",
    "    \n",
    "    for section_ids in section_ids_list:\n",
    "        dataset = section_ids[0] + '_' + section_ids[1]\n",
    "        start_time = time.time()\n",
    "        slice1 = load_DLPFC(section_id=section_ids[0])\n",
    "        slice2 = load_DLPFC(section_id=section_ids[1])\n",
    "\n",
    "        l = slice1.copy()\n",
    "        siml = slice2.copy()\n",
    "\n",
    "        # run paste2 pairwise alignment\n",
    "        # overlap_frac = float(section_ids[1].split(\"=\")[-1].split(\"%\")[0]) / 100\n",
    "        # pi0 = pst.match_spots_using_spatial_heuristic(slice1.obsm['spatial'],slice2.obsm['spatial'],use_ot=True)\n",
    "        # overlap_frac = select_overlap_fraction(slice1, slice2, alpha=0.1)\n",
    "        # overlap_frac = 0.2\n",
    "        overlap_frac = select_overlap_fraction(l, siml, alpha=0.1, dis=\"kl\")\n",
    "        print(overlap_frac)\n",
    "        pi12 = partial_pairwise_align(l, siml, overlap_frac, alpha=0.1, armijo=False, dissimilarity='kl', use_rep=None, G_init=None, a_distribution=None, b_distribution=None, norm=True, return_obj=False, verbose=True)\n",
    "\n",
    "        # save alignment matrix\n",
    "        if not os.path.exists(os.path.join(save_dir_gt, dataset)):\n",
    "            os.makedirs(os.path.join(save_dir_gt, dataset))\n",
    "        np.save(osp.join(save_dir_gt, dataset, 'iter'+str(iter_)+'embedding.npy'), pi12)\n",
    "\n",
    "        end_time = time.time()\n",
    "        run_times.append(end_time - start_time)\n",
    "\n",
    "        # # stack slices\n",
    "        # slices, pis = [slice1, slice2], [pi12]\n",
    "        # new_slices = pst.stack_slices_pairwise(slices, pis)\n",
    "\n",
    "        # # Center slice integration\n",
    "        # initial_slice = slice1.copy()    \n",
    "        # slices = [slice1, slice2]\n",
    "        # lmbda = len(slices)*[1/len(slices)] # set hyperparameter to be uniform\n",
    "\n",
    "        # ## Possible to pass in an initial pi (as keyword argument pis_init) \n",
    "        # center_slice, pis = pst.center_align(initial_slice, slices, lmbda, backend = ot.backend.TorchBackend(), use_gpu=True) \n",
    "\n",
    "        # save labels\n",
    "        labels = []\n",
    "        labels.extend(list(slice1.obs['original_clusters']))\n",
    "        labels.extend(list(slice2.obs['original_clusters']))\n",
    "        np.save(osp.join(save_dir_gt, dataset, 'iter'+str(iter_)+'labels.npy'), labels)"
   ]
  }
 ],
 "metadata": {
  "kernelspec": {
   "display_name": "paste",
   "language": "python",
   "name": "python3"
  },
  "language_info": {
   "codemirror_mode": {
    "name": "ipython",
    "version": 3
   },
   "file_extension": ".py",
   "mimetype": "text/x-python",
   "name": "python",
   "nbconvert_exporter": "python",
   "pygments_lexer": "ipython3",
   "version": "3.9.16"
  }
 },
 "nbformat": 4,
 "nbformat_minor": 2
}
